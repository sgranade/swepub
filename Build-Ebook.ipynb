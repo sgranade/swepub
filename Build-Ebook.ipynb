{
 "cells": [
  {
   "cell_type": "markdown",
   "id": "355809f3-b650-4c64-91ea-2829e3c364e4",
   "metadata": {},
   "source": [
    "# Build Small Wonders Ebook\n",
    "\n",
    "This was a proof-of-concept notebook to develop the ebook generation script. The real action now is in `build_ebook.py`.\n",
    "\n",
    "### Setup"
   ]
  },
  {
   "cell_type": "code",
   "execution_count": 1,
   "id": "843017e0-ff23-43fc-8781-e85b3a819b85",
   "metadata": {},
   "outputs": [],
   "source": [
    "import datetime\n",
    "import re\n",
    "import uuid\n",
    "from collections import OrderedDict\n",
    "from itertools import pairwise\n",
    "from pathlib import Path\n",
    "\n",
    "from ebooklib import epub\n",
    "from markdown_it import MarkdownIt\n",
    "from PIL import Image"
   ]
  },
  {
   "cell_type": "code",
   "execution_count": 2,
   "id": "e2bb5261-5d82-44fa-832c-d15eef7c4bb5",
   "metadata": {},
   "outputs": [
    {
     "data": {
      "text/plain": [
       "markdown_it.main.MarkdownIt()"
      ]
     },
     "execution_count": 2,
     "metadata": {},
     "output_type": "execute_result"
    }
   ],
   "source": [
    "md = MarkdownIt(\"commonmark\", {\"typographer\": True})\n",
    "md.enable([\"replacements\", \"smartquotes\"])"
   ]
  },
  {
   "cell_type": "code",
   "execution_count": 3,
   "id": "899a6fad-152f-419a-85c4-f4473e06e737",
   "metadata": {},
   "outputs": [],
   "source": [
    "front_matter = ['0a-about.md', '0b-cover-artist.md', '0c-keyhole.md']\n",
    "front_matter_titles = [\"Title Page & Copyright\", \"About the Cover Artist\", \"Thru the Keyhole\"]\n",
    "front_matter_paths = [Path(fn) for fn in front_matter]\n",
    "\n",
    "# Generate filenames for all pieces\n",
    "content_types = ('story', 'poem', 'reprint')\n",
    "pieces = [f\"{idx+1}a-{content_types[idx % 3]}.md\" for idx in range(0,9)]\n",
    "author_bios = [f\"{idx+1}b-author.md\" for idx in range(0,9)]\n",
    "piece_paths = [Path(fn) for fn in pieces]\n",
    "author_bio_paths = [Path(fn) for fn in author_bios]\n",
    "\n",
    "editors_path = Path(\"editors.txt\")\n",
    "\n",
    "description_path = Path(\"description.html\")\n",
    "stylesheet_path = Path(\"stylesheet.css\")\n",
    "\n",
    "images_path = Path(\"images\")\n",
    "cover_path = images_path / \"cover.jpg\""
   ]
  },
  {
   "cell_type": "code",
   "execution_count": 4,
   "id": "ee256e44-2f52-4c64-ab07-d7757509e302",
   "metadata": {},
   "outputs": [],
   "source": [
    "magazine_subjects = [\n",
    "    'magazine',\n",
    "    'science fiction',\n",
    "    'fantasy',\n",
    "    'science fiction magazine',\n",
    "    'Science Fiction - Short Stories',\n",
    "    'Science Fiction - Poetry',\n",
    "    'Science Fiction &amp; Fantasy',\n",
    "    'short fiction',\n",
    "    'short stories',\n",
    "    'poetry'\n",
    "]"
   ]
  },
  {
   "cell_type": "code",
   "execution_count": 5,
   "id": "16050daf-1dae-4ef8-be96-19deb5b8c8aa",
   "metadata": {},
   "outputs": [],
   "source": [
    "# TODO check all files' existence and that their update times are ~ the same (w/in a day)"
   ]
  },
  {
   "cell_type": "markdown",
   "id": "70c2cb43-8a8f-4d7d-988e-405f3442c893",
   "metadata": {},
   "source": [
    "### Prep"
   ]
  },
  {
   "cell_type": "code",
   "execution_count": 6,
   "id": "5957b587-9d13-443c-b4ae-96ba3788ddd7",
   "metadata": {},
   "outputs": [],
   "source": [
    "# Get titles and authors\n",
    "titles = []\n",
    "authors = []\n",
    "errs = []\n",
    "for fp in piece_paths:\n",
    "    content = md.parse(fp.read_text(encoding='utf-8'))\n",
    "    title = None\n",
    "    author = None\n",
    "    for cur_token, next_token in pairwise(content):\n",
    "        if cur_token.markup == \"#\" and title is None:\n",
    "            title = next_token.content\n",
    "        elif cur_token.markup == \"##\" and author is None:\n",
    "            author = re.sub(r\"[Bb]y +\", \"\", next_token.content)\n",
    "    file_errs = []\n",
    "    if title is None:\n",
    "        file_errs.append(\"No title found. Are you missing a # Markdown heading?\")\n",
    "    if author is None:\n",
    "        file_errs.append(\"No author found. Are you missing a ## Markdown heading?\")\n",
    "    if file_errs:\n",
    "        err_desc = \" \".join(file_errs)\n",
    "        errs.append(f\"{fp}: {err_desc}\")\n",
    "    else:\n",
    "        titles.append(title)\n",
    "        authors.append(author)\n",
    "\n",
    "if errs:\n",
    "    raise RuntimeError(\"Issues finding titles/authors.\\n  \"+\"\\n  \".join(errs))"
   ]
  },
  {
   "cell_type": "code",
   "execution_count": 7,
   "id": "1c8bbdb5-1e03-484d-99bf-3a893416c7c2",
   "metadata": {},
   "outputs": [],
   "source": [
    "# Get editors\n",
    "editors = editors_path.read_text().split(\"\\n\")"
   ]
  },
  {
   "cell_type": "code",
   "execution_count": 8,
   "id": "099b538d-2bf5-437c-aea5-a582cf6b5986",
   "metadata": {},
   "outputs": [
    {
     "data": {
      "text/plain": [
       "'4'"
      ]
     },
     "execution_count": 8,
     "metadata": {},
     "output_type": "execute_result"
    }
   ],
   "source": [
    "# TODO get issue number by scraping the about text. but for now:\n",
    "issue_num = 4\n",
    "m = re.search(\"Issue +(\\d+)\", front_matter_paths[0].read_text())\n",
    "if m is None:\n",
    "    raise RuntimeError(f\"Couldn't find issue number in {front_matter_paths[0]}\")\n",
    "m.group(1)"
   ]
  },
  {
   "cell_type": "markdown",
   "id": "1bf4c83d-fb69-450a-b3f8-1af89079e963",
   "metadata": {},
   "source": [
    "### Support Functions"
   ]
  },
  {
   "cell_type": "code",
   "execution_count": 9,
   "id": "3dd1faa4-01e2-431f-b632-7c6a9b561262",
   "metadata": {},
   "outputs": [],
   "source": [
    "# Adapted from the ebooklib class so I could tweak it -- the existing class lower-cases all\n",
    "# xml attributes, which wrecks the viewBox attribute\n",
    "class EpubCoverHtml(epub.EpubHtml):\n",
    "    def __init__(self, uid='cover', file_name='cover.xhtml', image_name='', title='Cover'):\n",
    "        super(EpubCoverHtml, self).__init__(uid=uid, file_name=file_name, title=title)\n",
    "\n",
    "        self.image_name = image_name\n",
    "        self.is_linear = False\n",
    "\n",
    "    def is_chapter(self):\n",
    "        return False\n",
    "\n",
    "    def set_content(self, cover_path):\n",
    "        self.content = self.get_cover_html_content(cover_path)\n",
    "\n",
    "    def get_content(self):\n",
    "        return self.content\n",
    "\n",
    "    def get_cover_html_content(self, cover_path: Path) -> bytes:\n",
    "        with Image.open(cover_path) as img:\n",
    "            cover_width, cover_height = img.size\n",
    "    \n",
    "        return ('''<?xml version=\"1.0\" encoding=\"UTF-8\"?>\n",
    "<!DOCTYPE html>\n",
    "<html xmlns=\"http://www.w3.org/1999/xhtml\" xmlns:epub=\"http://www.idpf.org/2007/ops\" lang=\"en\" xml:lang=\"en\">\n",
    " <head>\n",
    "  <style>\n",
    "    body { margin: 0em; padding: 0em; }\n",
    "    img { max-width: 100%; max-height: 100%; }\n",
    "  </style>\n",
    " </head>\n",
    " <body>\n",
    "   <svg xmlns=\"http://www.w3.org/2000/svg\" xmlns:xlink=\"http://www.w3.org/1999/xlink\"\n",
    "   height=\"100%\" width=\"100%\" viewBox=\"0 0 '''+f\"{cover_width} {cover_height}\"+'''\" preserveAspectRatio=\"xMidYMid meet\" version=\"1.1\">\n",
    "     <image href=\"'''+self.image_name+'''\" alt=\"Cover art\"/></svg>\n",
    " </body>\n",
    "</html>''').encode()\n",
    "\n",
    "    def __str__(self):\n",
    "        return '<EpubCoverHtml:%s:%s>' % (self.id, self.file_name)\n",
    "\n",
    "# Adapted from the ebooklib function so I can tweak it\n",
    "def set_cover(book, file_name: str, cover_path: Path, create_page=True, title=\"Cover\"):\n",
    "    \"\"\"\n",
    "    Set cover and create cover document if needed.\n",
    "\n",
    "    :Args:\n",
    "      - book: epub object to add the cover to\n",
    "      - file_name: file name of the cover page (in the epub file)\n",
    "      - cover_path: Path to the image file\n",
    "      - create_page: Should cover page be defined. Defined as bool value (optional). Default value is True.\n",
    "      - title: Title for the cover page (if defined).\n",
    "    \"\"\"\n",
    "\n",
    "    cover_path = Path(cover_path)\n",
    "    content = cover_path.read_bytes()\n",
    "\n",
    "    c0 = epub.EpubCover(file_name=file_name)\n",
    "    c0.content = content\n",
    "    book.add_item(c0)\n",
    "\n",
    "    if create_page:\n",
    "        c1 = EpubCoverHtml(title=title, file_name=\"cover.xhtml\", image_name=file_name)\n",
    "        c1.set_content(cover_path)\n",
    "        book.add_item(c1)\n",
    "\n",
    "    book.add_metadata(None, 'meta', '', OrderedDict([('name', 'cover'), ('content', 'cover-img')]))"
   ]
  },
  {
   "cell_type": "markdown",
   "id": "714dec85-1b0c-4a6a-9aba-6c5b6f247fa5",
   "metadata": {},
   "source": [
    "### Make the Ebook"
   ]
  },
  {
   "cell_type": "code",
   "execution_count": 10,
   "id": "2721737c-895b-4a80-a573-5be7eca1a002",
   "metadata": {},
   "outputs": [],
   "source": [
    "# Create ebook with metadata\n",
    "book = epub.EpubBook()\n",
    "book.set_identifier(str(uuid.uuid4()))\n",
    "book.set_title(f\"Small Wonders Issue {issue_num}\")\n",
    "book.set_language(\"en\")\n",
    "book.add_metadata('DC', 'publisher', 'Small Wonders LLC')\n",
    "for editor in editors:\n",
    "    book.add_metadata('DC', 'creator', editor)\n",
    "for author in authors:\n",
    "    book.add_metadata('DC', 'contributor', author)\n",
    "book.add_metadata('DC', 'date', datetime.date.today().isoformat())\n",
    "book.add_metadata('DC', 'description', description_path.read_text(encoding='utf-8'))\n",
    "for subject in magazine_subjects:\n",
    "    book.add_metadata('DC', 'subject', subject)"
   ]
  },
  {
   "cell_type": "code",
   "execution_count": 11,
   "id": "06feea92-7b98-4db2-b385-fc3891b0672a",
   "metadata": {},
   "outputs": [
    {
     "data": {
      "text/plain": [
       "<ebooklib.epub.EpubItem at 0x266c49a3690>"
      ]
     },
     "execution_count": 11,
     "metadata": {},
     "output_type": "execute_result"
    }
   ],
   "source": [
    "# Stylesheets\n",
    "css = epub.EpubItem(uid=\"base_stylesheet\",\n",
    "                    file_name=\"styles/stylesheet.css\",\n",
    "                    media_type=\"text/css\",\n",
    "                    content=stylesheet_path.read_text(encoding='utf-8'))\n",
    "book.add_item(css)"
   ]
  },
  {
   "cell_type": "code",
   "execution_count": 12,
   "id": "e3fccbb1-4346-424a-bf41-817615686bd8",
   "metadata": {},
   "outputs": [],
   "source": [
    "# Cover\n",
    "set_cover(book, \"cover.jpg\", cover_path, title=f\"Small Wonders Issue {issue_num}\")"
   ]
  },
  {
   "cell_type": "code",
   "execution_count": 13,
   "id": "8feb6c4a-3b35-4dbb-9358-0a842372e131",
   "metadata": {},
   "outputs": [],
   "source": [
    "ebook_chs = []  # Keep track of what we're making\n",
    "file_num = 0  # and how many files we've generated"
   ]
  },
  {
   "cell_type": "code",
   "execution_count": 14,
   "id": "aba7fb57-eff6-4bfa-b70c-8ea1ec33a548",
   "metadata": {},
   "outputs": [],
   "source": [
    "book.add_item(epub.EpubNcx())\n",
    "nav = epub.EpubNav()\n",
    "ebook_chs[0:0] = [nav]"
   ]
  },
  {
   "cell_type": "code",
   "execution_count": 15,
   "id": "a91c2281-d4ec-43d6-9b63-f142754c72c0",
   "metadata": {},
   "outputs": [],
   "source": [
    "# Front matter\n",
    "for path, title in zip(front_matter_paths, front_matter_titles):\n",
    "    ch = epub.EpubHtml(title=title, file_name=f\"body{file_num:02}.xhtml\", lang=\"en\")\n",
    "    ch.set_content('<div class=\"frontmatter\">'+md.render(path.read_text(encoding='utf-8'))+'</div>')\n",
    "    ebook_chs.append(ch)\n",
    "    file_num += 1"
   ]
  },
  {
   "cell_type": "code",
   "execution_count": 16,
   "id": "7c4b9880-e5de-43ce-8739-ac555901faca",
   "metadata": {},
   "outputs": [],
   "source": [
    "# Content\n",
    "current_year = datetime.datetime.now().year\n",
    "for ndx, (piece_path, bio_path, title, author) in enumerate(zip(piece_paths, author_bio_paths, titles, authors)):\n",
    "    content = '<div class=\"piece\">'\n",
    "    if \"poem\" in str(piece_path):\n",
    "        lines = piece_path.read_text(encoding=\"utf-8\").splitlines()\n",
    "        in_content = False\n",
    "        for line in lines:\n",
    "            if not in_content and not line.strip():\n",
    "                continue\n",
    "            if in_content or not line.startswith(\"#\"):\n",
    "                in_content = True\n",
    "                content += f'<div class=\"poem\">{line}&nbsp;</div>\\n'\n",
    "            elif line.startswith(\"##\"):\n",
    "                content += f'<h2>{line[2:]}</h2>\\n\\n'\n",
    "            elif line.startswith(\"#\"):\n",
    "                content += f'<h1>{line[1:]}</h1>\\n\\n'\n",
    "    else:\n",
    "        content += md.render(piece_path.read_text(encoding='utf-8'))\n",
    "    if \"reprint\" not in str(piece_path):\n",
    "        # Add the end div and copyright statement\n",
    "        content += f'</div>\\n\\n<div class=\"endmatter\">\\n<p>Copyright © {current_year} by {author}</p>\\n</div>\\n\\n'\n",
    "    else:\n",
    "        # Add the end div before the already-given copyright statement\n",
    "        ndx = content.find(\"<p>Copyright ©\")\n",
    "        if ndx == -1:\n",
    "            print(f\"Warning: Couldn't find copyright statement in {piece_path}\")\n",
    "        else:\n",
    "            content = content[:ndx] + '</div>\\n<div class=\"endmatter\">\\n' + content[ndx:] + \"</div>\\n\\n\"\n",
    "\n",
    "    # Add Author info\n",
    "    image_path = images_path / f\"{piece_path.stem[0]}-author.jpg\"\n",
    "    image = epub.EpubImage(uid=image_path.stem, file_name=piece_path.name, media_type='image/jpeg', content=image_path.read_bytes())\n",
    "    book.add_item(image)\n",
    "    content += f'<p class=\"author-pic\"><img class=\"author\" src=\"{piece_path.name}\" alt=\"{author}\"/></p>\\n\\n'\n",
    "    content += md.render(bio_path.read_text(encoding='utf-8'))\n",
    "\n",
    "    ch = epub.EpubHtml(title=title, file_name=f\"body{file_num:02}.xhtml\", lang=\"en\")\n",
    "    ch.set_content(content)\n",
    "    ebook_chs.append(ch)\n",
    "    file_num += 1"
   ]
  },
  {
   "cell_type": "code",
   "execution_count": 17,
   "id": "bf820653-a600-47f4-8f30-35aa97b43a1e",
   "metadata": {},
   "outputs": [],
   "source": [
    "# Spine\n",
    "book.spine = tuple(ebook_chs)\n",
    "for ch in ebook_chs:\n",
    "    ch.add_item(css)\n",
    "    book.add_item(ch)"
   ]
  },
  {
   "cell_type": "code",
   "execution_count": 18,
   "id": "ec912b0f-d9fc-44d5-8c46-a59f09cc08f2",
   "metadata": {},
   "outputs": [],
   "source": [
    "# Table of Contents\n",
    "book.toc = tuple(ebook_chs)"
   ]
  },
  {
   "cell_type": "code",
   "execution_count": 19,
   "id": "19d30c59-82db-4e69-b1cb-a5ea6e4f8c3b",
   "metadata": {},
   "outputs": [],
   "source": [
    "epub.write_epub(\"test.epub\", book)"
   ]
  },
  {
   "cell_type": "code",
   "execution_count": null,
   "id": "7a87ef98-2ecf-4756-b671-160a51947d2e",
   "metadata": {},
   "outputs": [],
   "source": []
  }
 ],
 "metadata": {
  "kernelspec": {
   "display_name": "Python 3 (ipykernel)",
   "language": "python",
   "name": "python3"
  },
  "language_info": {
   "codemirror_mode": {
    "name": "ipython",
    "version": 3
   },
   "file_extension": ".py",
   "mimetype": "text/x-python",
   "name": "python",
   "nbconvert_exporter": "python",
   "pygments_lexer": "ipython3",
   "version": "3.11.5"
  }
 },
 "nbformat": 4,
 "nbformat_minor": 5
}
